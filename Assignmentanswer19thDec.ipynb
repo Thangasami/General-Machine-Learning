{
 "cells": [
  {
   "cell_type": "markdown",
   "metadata": {},
   "source": [
    "### The questions for the exercises are given above the cells and the expected output is given below the cell. Please type the code inserting a new cell below the question because if you run the expected output cell the output would vanish! Happy learning! "
   ]
  },
  {
   "cell_type": "markdown",
   "metadata": {},
   "source": [
    "## 1. Write a Python program to count the number of even and odd numbers from a series of numbers."
   ]
  },
  {
   "cell_type": "code",
   "execution_count": 5,
   "metadata": {},
   "outputs": [
    {
     "name": "stdout",
     "output_type": "stream",
     "text": [
      "Number of even numbers  7\n",
      "Number of Odd Numbers  4\n"
     ]
    }
   ],
   "source": [
    "lista = [12, 34, 45, 55, 66, 66, 4, 2, 3, 6, 7]\n",
    "a = len(lista)\n",
    "e = 0\n",
    "o = 0\n",
    "for i in range(0,a):\n",
    "    if (lista[i]%2 == 0):\n",
    "        e = e + 1\n",
    "    else:\n",
    "        o = o + 1\n",
    "print(\"Number of even numbers \" , e)\n",
    "print(\"Number of Odd Numbers \" , o)"
   ]
  },
  {
   "cell_type": "markdown",
   "metadata": {},
   "source": [
    "## 2. Write a Python program to find numbers between 100 and 400 (both included) where each digit of a number is an even number. The numbers obtained should be printed in a comma-separated sequence."
   ]
  },
  {
   "cell_type": "code",
   "execution_count": 13,
   "metadata": {},
   "outputs": [
    {
     "name": "stdout",
     "output_type": "stream",
     "text": [
      "[200, 202, 204, 206, 208, 210, 212, 214, 216, 218, 220, 222, 224, 226, 228, 230, 232, 234, 236, 238, 240, 242, 244, 246, 248, 250, 252, 254, 256, 258, 260, 262, 264, 266, 268, 270, 272, 274, 276, 278, 280, 282, 284, 286, 288, 290, 292, 294, 296, 298, 300, 302, 304, 306, 308, 310, 312, 314, 316, 318, 320, 322, 324, 326, 328, 330, 332, 334, 336, 338, 340, 342, 344, 346, 348, 350, 352, 354, 356, 358, 360, 362, 364, 366, 368, 370, 372, 374, 376, 378, 380, 382, 384, 386, 388, 390, 392, 394, 396, 398, 400]\n"
     ]
    }
   ],
   "source": [
    "listb = []\n",
    "for i in range(199,401):\n",
    "    if (i%2 == 0):\n",
    "        listb.append(i)\n",
    "print(listb)"
   ]
  },
  {
   "cell_type": "markdown",
   "metadata": {},
   "source": [
    "## 3. Write a Python program to calculate a dog's age in dog's years. Go to the editor\n",
    "Note: For the first two years, a dog year is equal to 10.5 human years. After that, each dog year equals 4 human years."
   ]
  },
  {
   "cell_type": "code",
   "execution_count": 28,
   "metadata": {},
   "outputs": [
    {
     "name": "stdout",
     "output_type": "stream",
     "text": [
      "Input a dog age in human years: 5\n",
      "The dog age in dog years is: 33\n"
     ]
    }
   ],
   "source": [
    "hy = int(input('Input a dog age in human years: '))\n",
    "if (hy <= 2):\n",
    "    dy = hy*10.5\n",
    "elif (hy > 2):\n",
    "    dy = 21 + (hy - 2) * 4\n",
    "    \n",
    "print('The dog age in dog years is:' , dy)\n",
    "    "
   ]
  },
  {
   "cell_type": "markdown",
   "metadata": {},
   "source": [
    "## 4. Write a Python function that takes a number as a parameter and check the number is prime or not."
   ]
  },
  {
   "cell_type": "code",
   "execution_count": 40,
   "metadata": {},
   "outputs": [],
   "source": [
    "def prime(num):\n",
    "    num1 = num - 1\n",
    "    y = 'prime'\n",
    "    for i in range(2,num1):\n",
    "        if (num%i == 0):\n",
    "            y = 'not prime'\n",
    "    if (y == 'prime'):\n",
    "        print('given number {} is prime'.format(num))\n",
    "    else:\n",
    "        print('Given Number {} is not Prime'.format(num))\n",
    "        "
   ]
  },
  {
   "cell_type": "code",
   "execution_count": 42,
   "metadata": {},
   "outputs": [
    {
     "name": "stdout",
     "output_type": "stream",
     "text": [
      "given number 41 is prime\n"
     ]
    }
   ],
   "source": [
    "prime(41)"
   ]
  },
  {
   "cell_type": "markdown",
   "metadata": {},
   "source": [
    "## 5. Write a Python function that accepts a string and calculate the number of upper case letters and lower case letters. Go to the editor\n"
   ]
  },
  {
   "cell_type": "code",
   "execution_count": 54,
   "metadata": {},
   "outputs": [],
   "source": [
    "def casefinder(str1):\n",
    "    lst1 = list(str1)\n",
    "    a = len(lst1)\n",
    "    l = 0\n",
    "    u = 0\n",
    "    for i in range(0,a):\n",
    "        if (lst1[i].islower() == True):\n",
    "            l = l + 1\n",
    "        if (lst1[i].isupper() == True):\n",
    "            u = u + 1\n",
    "print('No. of Upper case characters : ' , u)\n",
    "print('No. of Lower case characters : ' , l)"
   ]
  },
  {
   "cell_type": "code",
   "execution_count": 55,
   "metadata": {},
   "outputs": [
    {
     "name": "stdout",
     "output_type": "stream",
     "text": [
      "No. of Upper case characters :  3\n",
      "No. of Lower case characters :  23\n"
     ]
    }
   ],
   "source": [
    "casefinder('Thanga is the Greate stua aA dls')"
   ]
  },
  {
   "cell_type": "markdown",
   "metadata": {},
   "source": [
    "## 6. Write a Python program to reverse a string. "
   ]
  },
  {
   "cell_type": "code",
   "execution_count": 57,
   "metadata": {},
   "outputs": [],
   "source": [
    "def reversestring(strrev):\n",
    "    out = strrev[::-1]\n",
    "    print('The original string is:' ,strrev)\n",
    "    print('The reversed string is:' ,out)"
   ]
  },
  {
   "cell_type": "code",
   "execution_count": 59,
   "metadata": {},
   "outputs": [
    {
     "name": "stdout",
     "output_type": "stream",
     "text": [
      "The original string is: 9353490lsdfkgedlkjg\n",
      "The reversed string is: gjkldegkfdsl0943539\n"
     ]
    }
   ],
   "source": [
    "reversestring('9353490lsdfkgedlkjg')"
   ]
  },
  {
   "cell_type": "markdown",
   "metadata": {},
   "source": [
    "## 7. Write a Python program to find  the greatest common divisor (gcd) of two integers."
   ]
  },
  {
   "cell_type": "code",
   "execution_count": 75,
   "metadata": {},
   "outputs": [],
   "source": [
    "def GCD(num1, num2):\n",
    "    if num1 > num2:\n",
    "        a = num2 + 1\n",
    "    else:\n",
    "        a = num1 + 1\n",
    "    for i in range(1, a):\n",
    "        if ( num1%i == 0 and num2 %i == 0):\n",
    "            gcd = i    \n",
    "    print('The Two numbers are :', num1, num2) \n",
    "    print('The GCD of the numbers are: ', gcd)"
   ]
  },
  {
   "cell_type": "code",
   "execution_count": 76,
   "metadata": {},
   "outputs": [
    {
     "name": "stdout",
     "output_type": "stream",
     "text": [
      "The Two numbers are : 1234 1234\n",
      "The GCD of the numbers are:  1234\n"
     ]
    }
   ],
   "source": [
    "GCD(1234,1234)"
   ]
  },
  {
   "cell_type": "code",
   "execution_count": null,
   "metadata": {},
   "outputs": [],
   "source": []
  }
 ],
 "metadata": {
  "kernelspec": {
   "display_name": "Python 3",
   "language": "python",
   "name": "python3"
  },
  "language_info": {
   "codemirror_mode": {
    "name": "ipython",
    "version": 3
   },
   "file_extension": ".py",
   "mimetype": "text/x-python",
   "name": "python",
   "nbconvert_exporter": "python",
   "pygments_lexer": "ipython3",
   "version": "3.8.3"
  }
 },
 "nbformat": 4,
 "nbformat_minor": 4
}
